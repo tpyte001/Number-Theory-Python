{
  "nbformat": 4,
  "nbformat_minor": 0,
  "metadata": {
    "colab": {
      "provenance": [],
      "collapsed_sections": [],
      "authorship_tag": "ABX9TyOMTUpvnQY3Z4DreWZ/d+14",
      "include_colab_link": true
    },
    "kernelspec": {
      "name": "python3",
      "display_name": "Python 3"
    },
    "language_info": {
      "name": "python"
    }
  },
  "cells": [
    {
      "cell_type": "markdown",
      "metadata": {
        "id": "view-in-github",
        "colab_type": "text"
      },
      "source": [
        "<a href=\"https://colab.research.google.com/github/tpyte001/Number-Theory-Python/blob/master/Methods_for_Solving_Differential_Equations.ipynb\" target=\"_parent\"><img src=\"https://colab.research.google.com/assets/colab-badge.svg\" alt=\"Open In Colab\"/></a>"
      ]
    },
    {
      "cell_type": "markdown",
      "source": [
        "Make a plot of eulers method vs runge-kutta method"
      ],
      "metadata": {
        "id": "Y3FHJBnTch38"
      }
    },
    {
      "cell_type": "code",
      "source": [
        "import numpy as np\n",
        "import matplotlib.pyplot as plt"
      ],
      "metadata": {
        "id": "B8Nu5hXUZDqg"
      },
      "execution_count": 41,
      "outputs": []
    },
    {
      "cell_type": "markdown",
      "source": [
        "Eulers Method"
      ],
      "metadata": {
        "id": "2ZVWR2e3LcxN"
      }
    },
    {
      "cell_type": "code",
      "execution_count": 47,
      "metadata": {
        "id": "5N3x_QzoyjRI",
        "colab": {
          "base_uri": "https://localhost:8080/",
          "height": 369
        },
        "outputId": "6573dade-adfc-4b0f-b7bb-bd18786858fc"
      },
      "outputs": [
        {
          "output_type": "stream",
          "name": "stdout",
          "text": [
            "2.0\n",
            "2.0162402339883934\n",
            "2.0481974717556057\n",
            "2.0946256497696356\n",
            "2.153721485122846\n"
          ]
        },
        {
          "output_type": "execute_result",
          "data": {
            "text/plain": [
              "[<matplotlib.lines.Line2D at 0x7f3d2f0991d0>]"
            ]
          },
          "metadata": {},
          "execution_count": 47
        },
        {
          "output_type": "display_data",
          "data": {
            "text/plain": [
              "<Figure size 432x288 with 1 Axes>"
            ],
            "image/png": "[encoded data removed]"
          },
          "metadata": {
            "needs_background": "light"
          }
        }
      ],
      "source": [
        "\n",
        "t = 0   # initial condition\n",
        "y = 2   # initial condition\n",
        "h = 0.2 # step size\n",
        "N = 5   # eulers method opper limit\n",
        "#epsilon = (0.5 * (h**2) for i in range(0,N-1) # accumulated error\n",
        "tlist = []\n",
        "ylist = []\n",
        "while t < 1:\n",
        "  tlist.append(t)\n",
        "  y_next = y + h*(3*(t)*np.e ** (-y))\n",
        "  ylist.append(y)\n",
        "  y = y_next\n",
        "  t = t + 0.2\n",
        "  print(y_next)\n",
        "plt.plot(tlist,ylist)\n",
        "\n",
        "\n"
      ]
    },
    {
      "cell_type": "markdown",
      "source": [
        "runge - kutta method "
      ],
      "metadata": {
        "id": "gwrL6vu_8zm4"
      }
    },
    {
      "cell_type": "markdown",
      "source": [
        "Function to use:\n",
        "\n",
        "$\n",
        "\\\\\\\\\\\\\\ \\frac{dy}{dt} = 3te^{-y} \n",
        "\\\\\\\\\\\\\\ y(0) = 2 \\implies \\{y_{o}=2, t_{o}=0\\}\n",
        "\\\\\\\\\\\\\\ y_{i+1} = y_{i} + hf(t_{i},y_{i})\n",
        "$"
      ],
      "metadata": {
        "id": "coht_Q2G_5gy"
      }
    },
    {
      "cell_type": "markdown",
      "source": [
        "$\n",
        "x(t+h) = x(t) + k_{2}\n",
        "\\\\\\\\ \\text{where } k_{2} = hf(x + \\frac{1}{2}k_{1},t+\\frac{h}{2})\n",
        "\\\\\\\\ \\text{where } k_{1} = h(f(x,t))\n",
        "\\\\\\\\ \\text{eulers } x = x_{0} + hf(x_{0},t)\n",
        "$\n"
      ],
      "metadata": {
        "id": "N-N0OALnc4OU"
      }
    },
    {
      "cell_type": "code",
      "source": [
        "#equation:\n",
        "def dydt(t,y):\n",
        "  return (3*(t)*np.e ** (-y))\n",
        "#finds y for given x\n",
        "#via step size h\n",
        "#initial value y0 at x0\n",
        "\n",
        "def runKut(t0,y0,t,h):\n",
        "  #count number of iterations\n",
        "  #using step size or height h\n",
        "  n = round((t-t0)/h)\n",
        "  #iterate for number of iterations\n",
        "  y = y0\n",
        "    \n",
        "  for i in range(1,n+1):\n",
        "    #rungekatta formulas\n",
        "    #calculate y\n",
        "    k1 = h * dydt(t0,y)\n",
        "    k2 = h * dydt(t0 + (h/2), y +  (h/2) * k1)\n",
        "    \n",
        "    #update next value of y\n",
        "    #y = y + (1.0 / 6.0) * (k1 + 2 * k2)\n",
        "    y = y + k2\n",
        "    #update next value of x\n",
        "    t0 = t0 + h\n",
        "\n",
        "  return y\n",
        "\n",
        "t0 = 0\n",
        "y = 1\n",
        "t = 2\n",
        "h = 0.2\n",
        "runKut(t0,y,t,h)\n",
        "\n"
      ],
      "metadata": {
        "colab": {
          "base_uri": "https://localhost:8080/"
        },
        "id": "LTef6KdvDKiy",
        "outputId": "0c54983f-8b4b-41ba-fc03-b0929a4c8405"
      },
      "execution_count": 43,
      "outputs": [
        {
          "output_type": "execute_result",
          "data": {
            "text/plain": [
              "2.2058623323064817"
            ]
          },
          "metadata": {},
          "execution_count": 43
        }
      ]
    },
    {
      "cell_type": "code",
      "source": [
        "def dydt(y,t):\n",
        "  #return (3*(t)*np.e ** (-y))\n",
        "  return -y"
      ],
      "metadata": {
        "id": "My5s_kRvX0jK"
      },
      "execution_count": 44,
      "outputs": []
    },
    {
      "cell_type": "code",
      "source": [
        "\n",
        "### RANGE KUTTA METHOD ###\n",
        "\n",
        "a = 0\n",
        "b = 10\n",
        "N = 100\n",
        "h = (b-a)/N\n",
        "\n",
        "tlist = np.arange(a,b,h)\n",
        "ylist = []\n",
        "y = 1000\n",
        "\n",
        "for t in tlist:\n",
        "  ylist.append(y)\n",
        "  k1 = h * dydt(y,t)\n",
        "  k2 = h * dydt((y + k1 / 2.0),(t+ h / 2.0))\n",
        "  y = y + k2\n",
        "\n",
        "graph2 = plt.plot(tlist,ylist)\n",
        "plt.plot()\n",
        "\n",
        "### EULERS METHOD ###\n",
        "\n",
        "t = 0   # initial condition\n",
        "y = 2   # initial condition\n",
        "h = 0.2 # step size\n",
        "N = 5   # eulers method opper limit\n",
        "#epsilon = (0.5 * (h**2) for i in range(0,N-1) # accumulated error\n",
        "\n",
        "\n",
        "tlist = []\n",
        "ylist = []\n",
        "while t < 1:\n",
        "  tlist.append(t)\n",
        "  y_next = y + h*(3*(t)*np.e ** (-y))\n",
        "  ylist.append(y)\n",
        "  y = y_next\n",
        "  t = t + 0.2\n",
        "print(tlist)\n",
        "plt.plot(tlist,1000*np.exp(-np.array(tlist)))\n"
      ],
      "metadata": {
        "colab": {
          "base_uri": "https://localhost:8080/",
          "height": 300
        },
        "id": "LsXDyWGmW7k1",
        "outputId": "bc4db5cc-65ef-4fd2-b067-b310d2d924ef"
      },
      "execution_count": 66,
      "outputs": [
        {
          "output_type": "stream",
          "name": "stdout",
          "text": [
            "[0, 0.2, 0.4, 0.6000000000000001, 0.8]\n"
          ]
        },
        {
          "output_type": "execute_result",
          "data": {
            "text/plain": [
              "[<matplotlib.lines.Line2D at 0x7f3d2f6b3210>]"
            ]
          },
          "metadata": {},
          "execution_count": 66
        },
        {
          "output_type": "display_data",
          "data": {
            "text/plain": [
              "<Figure size 432x288 with 1 Axes>"
            ],
            "image/png": "[encoded data removed]"
          },
          "metadata": {
            "needs_background": "light"
          }
        }
      ]
    },
    {
      "cell_type": "code",
      "source": [],
      "metadata": {
        "id": "6g38eQazdOHt"
      },
      "execution_count": null,
      "outputs": []
    }
  ]
}